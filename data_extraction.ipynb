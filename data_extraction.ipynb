{
 "cells": [
  {
   "cell_type": "markdown",
   "id": "c175d7d8",
   "metadata": {},
   "source": [
    "# Data Extraction\n",
    "\n",
    "Just a quick notebook to extract the body text from the responses and to sample 500 pairs of r/ChangeMyView posts from Chenhao Tan's CMV dataset"
   ]
  },
  {
   "cell_type": "markdown",
   "id": "b210abd4",
   "metadata": {},
   "source": [
    "Takes the following file [heldout_pair_data](original_data/cmv/pair_task/heldout_pair_data.jsonlist) from Chenhao Tan's CMV dataset in his paper [\"Winning Arguments: Interaction Dynamics and Persuasion Strategies in Good-faith Online Discussions\"](https://chenhaot.com/papers/changemyview.html) and samples 500 random lines of code to test ChatGPT's capabilities.\n",
    "\n",
    "Additionally, this also coverts the file into .csv files for better readability."
   ]
  },
  {
   "cell_type": "code",
   "execution_count": 25,
   "id": "b0eccd1a",
   "metadata": {},
   "outputs": [],
   "source": [
    "#Samples 500 lines from 'heldout_pair_data.jsonlist'\n",
    "import pandas as pd\n",
    "import os\n",
    "\n",
    "file_path = \"original_data/cmv/pair_task/heldout_pair_data.jsonlist\"\n",
    "output_dir = \"sample_data\"\n",
    "\n",
    "if os.path.exists(file_path):\n",
    "    df = pd.read_json(file_path, orient='records', lines=True)\n",
    "    sample = df.sample(min(500, len(df)))\n",
    "    \n",
    "    filename = os.path.basename(file_path)\n",
    "    output_path = os.path.join(output_dir, filename)\n",
    "    \n",
    "    sample.to_json(output_path, orient='records', lines=True)\n",
    "else:\n",
    "    raise FileNotFoundError(f\"{file_path}\")"
   ]
  },
  {
   "cell_type": "code",
   "execution_count": null,
   "id": "50b28acb",
   "metadata": {},
   "outputs": [],
   "source": [
    "#Converts to CSV and extracts only body text from responses\n",
    "import pandas as pd\n",
    "\n",
    "file_path = \"sample_data/heldout_pair_data.jsonlist\"\n",
    "\n",
    "df = pd.read_json(file_path, orient='records', lines=True)\n",
    "\n",
    "#Extracts body text from responses\n",
    "def extract_body_text(response_data):\n",
    "    return response_data['comments'][0]['body']\n",
    "\n",
    "#Applies function to positive and negative columns and saves\n",
    "df['positive_body'] = df['positive'].apply(extract_body_text)\n",
    "df['negative_body'] = df['negative'].apply(extract_body_text)\n",
    "\n",
    "final_df = df[[\"op_text\", \"positive_body\", \"negative_body\"]]\n",
    "final_df.columns = [\"op_text\", \"positive\", \"negative\"]\n",
    "\n",
    "final_df.to_csv(\"sample_data/heldout_pair_data.csv\", index=False)"
   ]
  }
 ],
 "metadata": {
  "kernelspec": {
   "display_name": "Python 3",
   "language": "python",
   "name": "python3"
  },
  "language_info": {
   "codemirror_mode": {
    "name": "ipython",
    "version": 3
   },
   "file_extension": ".py",
   "mimetype": "text/x-python",
   "name": "python",
   "nbconvert_exporter": "python",
   "pygments_lexer": "ipython3",
   "version": "3.12.10"
  }
 },
 "nbformat": 4,
 "nbformat_minor": 5
}
